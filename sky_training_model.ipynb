{
 "cells": [
  {
   "cell_type": "code",
   "execution_count": null,
   "metadata": {
    "collapsed": true
   },
   "outputs": [],
   "source": [
    "import tensorflow as tf\n",
    "import numpy as np\n",
    "import os\n",
    "import json\n",
    "keras = tf.keras\n",
    "import matplotlib.pyplot as plt"
   ]
  },
  {
   "cell_type": "code",
   "execution_count": null,
   "outputs": [],
   "source": [
    "# import json dictionary\n",
    "with open(os.path.join('train_data_info.json'), 'r') as json_file:\n",
    "    dataset = json.load(json_file)"
   ],
   "metadata": {
    "collapsed": false
   }
  },
  {
   "cell_type": "code",
   "execution_count": null,
   "outputs": [],
   "source": [
    "IMAGE_SIZE = 240\n",
    "\n",
    "# import image\n",
    "image_list = []\n",
    "label_list = []\n",
    "\n",
    "for image_path, label in dataset.items():\n",
    "    image = plt.imread(image_path)\n",
    "    resized_image = tf.image.resize(images=image,\n",
    "                                    size=[IMAGE_SIZE, IMAGE_SIZE],\n",
    "                                    method=tf.image.ResizeMethod.BILINEAR,\n",
    "                                    preserve_aspect_ratio=False,\n",
    "                                    antialias=False)\n",
    "    image_array = np.asarray(resized_image)\n",
    "    image_list.append()\n",
    "\n",
    "\n"
   ],
   "metadata": {
    "collapsed": false
   }
  }
 ],
 "metadata": {
  "kernelspec": {
   "display_name": "Python 3",
   "language": "python",
   "name": "python3"
  },
  "language_info": {
   "codemirror_mode": {
    "name": "ipython",
    "version": 2
   },
   "file_extension": ".py",
   "mimetype": "text/x-python",
   "name": "python",
   "nbconvert_exporter": "python",
   "pygments_lexer": "ipython2",
   "version": "2.7.6"
  }
 },
 "nbformat": 4,
 "nbformat_minor": 0
}
