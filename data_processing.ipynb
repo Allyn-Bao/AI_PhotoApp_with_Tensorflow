{
 "cells": [
  {
   "cell_type": "code",
   "execution_count": 6,
   "metadata": {
    "collapsed": true
   },
   "outputs": [],
   "source": [
    "import tensorflow\n",
    "import os\n",
    "import pathlib"
   ]
  },
  {
   "cell_type": "code",
   "execution_count": 21,
   "outputs": [],
   "source": [
    "# classes\n",
    "index_to_classes = {0: 'sunsets', 1: 'daytime_sky', 2: 'other'}\n",
    "classes_to_index = {}"
   ],
   "metadata": {
    "collapsed": false
   }
  },
  {
   "cell_type": "code",
   "execution_count": 27,
   "outputs": [],
   "source": [
    "def get_list_of_img_names_from_dir(dir_path):\n",
    "    file_names = [file for file in os.listdir(dir_path)]\n",
    "    file_names = list(filter(lambda name: pathlib.Path(name).suffix == '.jpg', file_names))\n",
    "    return file_names"
   ],
   "metadata": {
    "collapsed": false
   }
  },
  {
   "cell_type": "code",
   "execution_count": 28,
   "outputs": [],
   "source": [
    "def rename_files_in_list(dir_path, file_names, category_name):\n",
    "    new_file_path_list = []\n",
    "    for i in range(len(file_names)):\n",
    "        path = os.path.join(dir_path, file_names[i])\n",
    "        new_name = category_name + str(i) + '.jpg'\n",
    "        os.rename(path, os.path.join(dir_path, new_name))\n",
    "        new_file_path_list.append(os.path.join(dir_path, new_name))\n",
    "    return new_file_path_list\n"
   ],
   "metadata": {
    "collapsed": false
   }
  },
  {
   "cell_type": "code",
   "execution_count": 29,
   "outputs": [],
   "source": [
    "def import_images_to_dict(dir_path: str, class_name: str, class_index: int):\n",
    "    img_names = get_list_of_img_names_from_dir(dir_path)\n",
    "    renamed_img_paths = rename_files_in_list(dir_path, img_names, class_name)\n",
    "    img_paths_dict = dict(zip(renamed_img_paths, [class_index for _ in range(len(renamed_img_paths))]))\n",
    "    return img_paths_dict"
   ],
   "metadata": {
    "collapsed": false
   }
  },
  {
   "cell_type": "code",
   "execution_count": 25,
   "outputs": [
    {
     "name": "stdout",
     "output_type": "stream",
     "text": [
      "{'data/sunsets/sunsets0.jpg': 0, 'data/sunsets/sunsets1.jpg': 0, 'data/sunsets/sunsets2.jpg': 0, 'data/sunsets/sunsets3.jpg': 0, 'data/sunsets/sunsets4.jpg': 0, 'data/sunsets/sunsets5.jpg': 0, 'data/sunsets/sunsets6.jpg': 0, 'data/sunsets/sunsets7.jpg': 0, 'data/sunsets/sunsets8.jpg': 0, 'data/sunsets/sunsets9.jpg': 0, 'data/sunsets/sunsets10.jpg': 0, 'data/sunsets/sunsets11.jpg': 0, 'data/sunsets/sunsets12.jpg': 0, 'data/sunsets/sunsets13.jpg': 0, 'data/sunsets/sunsets14.jpg': 0, 'data/sunsets/sunsets15.jpg': 0, 'data/sunsets/sunsets16.jpg': 0, 'data/sunsets/sunsets17.jpg': 0, 'data/sunsets/sunsets18.jpg': 0, 'data/sunsets/sunsets19.jpg': 0, 'data/sunsets/sunsets20.jpg': 0, 'data/sunsets/sunsets21.jpg': 0, 'data/sunsets/sunsets22.jpg': 0, 'data/sunsets/sunsets23.jpg': 0, 'data/sunsets/sunsets24.jpg': 0, 'data/sunsets/sunsets25.jpg': 0, 'data/sunsets/sunsets26.jpg': 0, 'data/sunsets/sunsets27.jpg': 0, 'data/sunsets/sunsets28.jpg': 0, 'data/sunsets/sunsets29.jpg': 0, 'data/sunsets/sunsets30.jpg': 0, 'data/sunsets/sunsets31.jpg': 0, 'data/sunsets/sunsets32.jpg': 0, 'data/sunsets/sunsets33.jpg': 0, 'data/sunsets/sunsets34.jpg': 0, 'data/sunsets/sunsets35.jpg': 0, 'data/sunsets/sunsets36.jpg': 0, 'data/sunsets/sunsets37.jpg': 0, 'data/sunsets/sunsets38.jpg': 0, 'data/sunsets/sunsets39.jpg': 0, 'data/sunsets/sunsets40.jpg': 0, 'data/sunsets/sunsets41.jpg': 0, 'data/sunsets/sunsets42.jpg': 0, 'data/sunsets/sunsets43.jpg': 0, 'data/sunsets/sunsets44.jpg': 0, 'data/sunsets/sunsets45.jpg': 0, 'data/sunsets/sunsets46.jpg': 0, 'data/sunsets/sunsets47.jpg': 0, 'data/sunsets/sunsets48.jpg': 0, 'data/sunsets/sunsets49.jpg': 0, 'data/sunsets/sunsets50.jpg': 0, 'data/sunsets/sunsets51.jpg': 0, 'data/sunsets/sunsets52.jpg': 0, 'data/sunsets/sunsets53.jpg': 0, 'data/sunsets/sunsets54.jpg': 0, 'data/sunsets/sunsets55.jpg': 0, 'data/sunsets/sunsets56.jpg': 0, 'data/sunsets/sunsets57.jpg': 0, 'data/sunsets/sunsets58.jpg': 0, 'data/sunsets/sunsets59.jpg': 0, 'data/sunsets/sunsets60.jpg': 0, 'data/sunsets/sunsets61.jpg': 0, 'data/sunsets/sunsets62.jpg': 0, 'data/sunsets/sunsets63.jpg': 0, 'data/sunsets/sunsets64.jpg': 0, 'data/sunsets/sunsets65.jpg': 0, 'data/sunsets/sunsets66.jpg': 0, 'data/sunsets/sunsets67.jpg': 0, 'data/sunsets/sunsets68.jpg': 0, 'data/sunsets/sunsets69.jpg': 0, 'data/sunsets/sunsets70.jpg': 0, 'data/sunsets/sunsets71.jpg': 0, 'data/sunsets/sunsets72.jpg': 0, 'data/sunsets/sunsets73.jpg': 0, 'data/sunsets/sunsets74.jpg': 0, 'data/sunsets/sunsets75.jpg': 0, 'data/sunsets/sunsets76.jpg': 0, 'data/sunsets/sunsets77.jpg': 0, 'data/sunsets/sunsets78.jpg': 0, 'data/sunsets/sunsets79.jpg': 0}\n"
     ]
    }
   ],
   "source": [
    "# sunsets\n",
    "sunset_dir_path = os.path.join('data', 'sunsets')\n",
    "sunset_img_paths_to_class = import_images_to_dict(sunset_dir_path, 'sunsets', 0)"
   ],
   "metadata": {
    "collapsed": false
   }
  },
  {
   "cell_type": "code",
   "execution_count": 30,
   "outputs": [
    {
     "name": "stdout",
     "output_type": "stream",
     "text": [
      "{'data/daytime sky/daytime_sky0.jpg': 1, 'data/daytime sky/daytime_sky1.jpg': 1, 'data/daytime sky/daytime_sky2.jpg': 1, 'data/daytime sky/daytime_sky3.jpg': 1, 'data/daytime sky/daytime_sky4.jpg': 1, 'data/daytime sky/daytime_sky5.jpg': 1, 'data/daytime sky/daytime_sky6.jpg': 1, 'data/daytime sky/daytime_sky7.jpg': 1, 'data/daytime sky/daytime_sky8.jpg': 1, 'data/daytime sky/daytime_sky9.jpg': 1, 'data/daytime sky/daytime_sky10.jpg': 1, 'data/daytime sky/daytime_sky11.jpg': 1, 'data/daytime sky/daytime_sky12.jpg': 1, 'data/daytime sky/daytime_sky13.jpg': 1, 'data/daytime sky/daytime_sky14.jpg': 1, 'data/daytime sky/daytime_sky15.jpg': 1, 'data/daytime sky/daytime_sky16.jpg': 1, 'data/daytime sky/daytime_sky17.jpg': 1, 'data/daytime sky/daytime_sky18.jpg': 1, 'data/daytime sky/daytime_sky19.jpg': 1, 'data/daytime sky/daytime_sky20.jpg': 1, 'data/daytime sky/daytime_sky21.jpg': 1, 'data/daytime sky/daytime_sky22.jpg': 1, 'data/daytime sky/daytime_sky23.jpg': 1, 'data/daytime sky/daytime_sky24.jpg': 1, 'data/daytime sky/daytime_sky25.jpg': 1, 'data/daytime sky/daytime_sky26.jpg': 1, 'data/daytime sky/daytime_sky27.jpg': 1, 'data/daytime sky/daytime_sky28.jpg': 1, 'data/daytime sky/daytime_sky29.jpg': 1, 'data/daytime sky/daytime_sky30.jpg': 1, 'data/daytime sky/daytime_sky31.jpg': 1, 'data/daytime sky/daytime_sky32.jpg': 1, 'data/daytime sky/daytime_sky33.jpg': 1, 'data/daytime sky/daytime_sky34.jpg': 1, 'data/daytime sky/daytime_sky35.jpg': 1, 'data/daytime sky/daytime_sky36.jpg': 1, 'data/daytime sky/daytime_sky37.jpg': 1, 'data/daytime sky/daytime_sky38.jpg': 1, 'data/daytime sky/daytime_sky39.jpg': 1, 'data/daytime sky/daytime_sky40.jpg': 1, 'data/daytime sky/daytime_sky41.jpg': 1, 'data/daytime sky/daytime_sky42.jpg': 1, 'data/daytime sky/daytime_sky43.jpg': 1, 'data/daytime sky/daytime_sky44.jpg': 1, 'data/daytime sky/daytime_sky45.jpg': 1, 'data/daytime sky/daytime_sky46.jpg': 1, 'data/daytime sky/daytime_sky47.jpg': 1, 'data/daytime sky/daytime_sky48.jpg': 1, 'data/daytime sky/daytime_sky49.jpg': 1, 'data/daytime sky/daytime_sky50.jpg': 1, 'data/daytime sky/daytime_sky51.jpg': 1, 'data/daytime sky/daytime_sky52.jpg': 1, 'data/daytime sky/daytime_sky53.jpg': 1, 'data/daytime sky/daytime_sky54.jpg': 1, 'data/daytime sky/daytime_sky55.jpg': 1, 'data/daytime sky/daytime_sky56.jpg': 1, 'data/daytime sky/daytime_sky57.jpg': 1, 'data/daytime sky/daytime_sky58.jpg': 1, 'data/daytime sky/daytime_sky59.jpg': 1, 'data/daytime sky/daytime_sky60.jpg': 1, 'data/daytime sky/daytime_sky61.jpg': 1, 'data/daytime sky/daytime_sky62.jpg': 1, 'data/daytime sky/daytime_sky63.jpg': 1, 'data/daytime sky/daytime_sky64.jpg': 1, 'data/daytime sky/daytime_sky65.jpg': 1, 'data/daytime sky/daytime_sky66.jpg': 1, 'data/daytime sky/daytime_sky67.jpg': 1, 'data/daytime sky/daytime_sky68.jpg': 1, 'data/daytime sky/daytime_sky69.jpg': 1, 'data/daytime sky/daytime_sky70.jpg': 1, 'data/daytime sky/daytime_sky71.jpg': 1, 'data/daytime sky/daytime_sky72.jpg': 1, 'data/daytime sky/daytime_sky73.jpg': 1, 'data/daytime sky/daytime_sky74.jpg': 1, 'data/daytime sky/daytime_sky75.jpg': 1, 'data/daytime sky/daytime_sky76.jpg': 1, 'data/daytime sky/daytime_sky77.jpg': 1, 'data/daytime sky/daytime_sky78.jpg': 1, 'data/daytime sky/daytime_sky79.jpg': 1, 'data/daytime sky/daytime_sky80.jpg': 1, 'data/daytime sky/daytime_sky81.jpg': 1, 'data/daytime sky/daytime_sky82.jpg': 1, 'data/daytime sky/daytime_sky83.jpg': 1, 'data/daytime sky/daytime_sky84.jpg': 1, 'data/daytime sky/daytime_sky85.jpg': 1, 'data/daytime sky/daytime_sky86.jpg': 1, 'data/daytime sky/daytime_sky87.jpg': 1, 'data/daytime sky/daytime_sky88.jpg': 1, 'data/daytime sky/daytime_sky89.jpg': 1, 'data/daytime sky/daytime_sky90.jpg': 1, 'data/daytime sky/daytime_sky91.jpg': 1, 'data/daytime sky/daytime_sky92.jpg': 1, 'data/daytime sky/daytime_sky93.jpg': 1, 'data/daytime sky/daytime_sky94.jpg': 1, 'data/daytime sky/daytime_sky95.jpg': 1, 'data/daytime sky/daytime_sky96.jpg': 1, 'data/daytime sky/daytime_sky97.jpg': 1, 'data/daytime sky/daytime_sky98.jpg': 1, 'data/daytime sky/daytime_sky99.jpg': 1}\n"
     ]
    }
   ],
   "source": [
    "# daytime sky\n",
    "daytime_sky_dir = os.path.join('data', 'daytime sky')\n",
    "daytime_sky_img_paths_to_class = import_images_to_dict(daytime_sky_dir, 'daytime_sky', 1)"
   ],
   "metadata": {
    "collapsed": false
   }
  },
  {
   "cell_type": "code",
   "execution_count": 35,
   "outputs": [],
   "source": [
    "# daytime city_skyline\n",
    "daytime_skyline_dir = os.path.join('data', 'daytime city skyline')\n",
    "daytime_skyline_img_paths_to_class = import_images_to_dict(daytime_skyline_dir, 'daytime_skyline', 1)"
   ],
   "metadata": {
    "collapsed": false
   }
  },
  {
   "cell_type": "code",
   "execution_count": null,
   "outputs": [],
   "source": [],
   "metadata": {
    "collapsed": false
   }
  }
 ],
 "metadata": {
  "kernelspec": {
   "display_name": "Python 3",
   "language": "python",
   "name": "python3"
  },
  "language_info": {
   "codemirror_mode": {
    "name": "ipython",
    "version": 2
   },
   "file_extension": ".py",
   "mimetype": "text/x-python",
   "name": "python",
   "nbconvert_exporter": "python",
   "pygments_lexer": "ipython2",
   "version": "2.7.6"
  }
 },
 "nbformat": 4,
 "nbformat_minor": 0
}
