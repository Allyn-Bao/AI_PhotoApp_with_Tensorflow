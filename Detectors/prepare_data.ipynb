{
 "cells": [
  {
   "cell_type": "markdown",
   "id": "557e2814",
   "metadata": {},
   "source": [
    "# Imports"
   ]
  },
  {
   "cell_type": "code",
   "execution_count": 4,
   "id": "9890718b",
   "metadata": {},
   "outputs": [
    {
     "name": "stdout",
     "output_type": "stream",
     "text": [
      "Init Plugin\n",
      "Init Graph Optimizer\n",
      "Init Kernel\n"
     ]
    }
   ],
   "source": [
    "import matplotlib.pyplot as plt\n",
    "import PIL\n",
    "import numpy as np\n",
    "import os\n",
    "import tensorflow as tf\n",
    "from tensorflow.keras import datasets, layers, models\n",
    "import json"
   ]
  },
  {
   "cell_type": "markdown",
   "id": "0f443659",
   "metadata": {},
   "source": [
    "# Import Datasets"
   ]
  },
  {
   "cell_type": "code",
   "execution_count": 1,
   "id": "dcb0cb90",
   "metadata": {},
   "outputs": [
    {
     "ename": "NameError",
     "evalue": "name 'os' is not defined",
     "output_type": "error",
     "traceback": [
      "\u001B[0;31m---------------------------------------------------------------------------\u001B[0m",
      "\u001B[0;31mNameError\u001B[0m                                 Traceback (most recent call last)",
      "Cell \u001B[0;32mIn [1], line 5\u001B[0m\n\u001B[1;32m      1\u001B[0m \u001B[38;5;66;03m# import all COCO datasets\u001B[39;00m\n\u001B[1;32m      2\u001B[0m \n\u001B[1;32m      3\u001B[0m \u001B[38;5;66;03m# file path\u001B[39;00m\n\u001B[1;32m      4\u001B[0m paths \u001B[38;5;241m=\u001B[39m {\n\u001B[0;32m----> 5\u001B[0m     \u001B[38;5;124m'\u001B[39m\u001B[38;5;124mtrain_anns\u001B[39m\u001B[38;5;124m'\u001B[39m : \u001B[43mos\u001B[49m\u001B[38;5;241m.\u001B[39mpath\u001B[38;5;241m.\u001B[39mjoin(\u001B[38;5;124m'\u001B[39m\u001B[38;5;124mdata\u001B[39m\u001B[38;5;124m'\u001B[39m, \u001B[38;5;124m'\u001B[39m\u001B[38;5;124mannotations\u001B[39m\u001B[38;5;124m'\u001B[39m, \u001B[38;5;124m'\u001B[39m\u001B[38;5;124minstances_train2017.json\u001B[39m\u001B[38;5;124m'\u001B[39m),\n\u001B[1;32m      6\u001B[0m     \u001B[38;5;124m'\u001B[39m\u001B[38;5;124mval_anns\u001B[39m\u001B[38;5;124m'\u001B[39m : os\u001B[38;5;241m.\u001B[39mpath\u001B[38;5;241m.\u001B[39mjoin(\u001B[38;5;124m'\u001B[39m\u001B[38;5;124mdata\u001B[39m\u001B[38;5;124m'\u001B[39m, \u001B[38;5;124m'\u001B[39m\u001B[38;5;124mannotations\u001B[39m\u001B[38;5;124m'\u001B[39m, \u001B[38;5;124m'\u001B[39m\u001B[38;5;124minstances_val2017.json\u001B[39m\u001B[38;5;124m'\u001B[39m)\n\u001B[1;32m      7\u001B[0m }\n\u001B[1;32m      9\u001B[0m train_anns_file \u001B[38;5;241m=\u001B[39m \u001B[38;5;28mopen\u001B[39m(paths[\u001B[38;5;124m'\u001B[39m\u001B[38;5;124mtrain_anns\u001B[39m\u001B[38;5;124m'\u001B[39m])\n\u001B[1;32m     10\u001B[0m train_anns \u001B[38;5;241m=\u001B[39m json\u001B[38;5;241m.\u001B[39mload(train_anns_file)\n",
      "\u001B[0;31mNameError\u001B[0m: name 'os' is not defined"
     ]
    }
   ],
   "source": [
    "# import all COCO datasets\n",
    "\n",
    "# file path\n",
    "paths = {\n",
    "    'train_anns' : os.path.join('data', 'annotations', 'instances_train2017.json'),\n",
    "    'val_anns' : os.path.join('data', 'annotations', 'instances_val2017.json')\n",
    "}\n",
    "\n",
    "train_anns_file = open(paths['train_anns'])\n",
    "train_anns = json.load(train_anns_file)\n",
    "\n",
    "val_anns_file = open(paths['val_anns'])\n",
    "val_anns = json.load(val_anns_file)"
   ]
  },
  {
   "cell_type": "code",
   "execution_count": 6,
   "id": "f029ee73",
   "metadata": {},
   "outputs": [
    {
     "data": {
      "text/plain": [
       "dict_keys(['info', 'licenses', 'images', 'annotations', 'categories'])"
      ]
     },
     "execution_count": 6,
     "metadata": {},
     "output_type": "execute_result"
    }
   ],
   "source": [
    "val_anns.keys()"
   ]
  },
  {
   "cell_type": "code",
   "execution_count": 9,
   "id": "9e0dd54c",
   "metadata": {},
   "outputs": [],
   "source": [
    "# helper functions on selecting / viewing the label types\n",
    "\n",
    "\"\"\"\n",
    "A script to pick categories to a new dictionary\n",
    "\"\"\"\n",
    "def pick_categories_by_name(categories_list):\n",
    "    \n",
    "    new_categories_list = []\n",
    "    \n",
    "    for category in categories_list:\n",
    "        while True:\n",
    "            picking_input = input(f\"name: { category['name'] }, y/n: \")\n",
    "            if picking_input.lower() == 'y':\n",
    "                new_categories_list.append(category)\n",
    "                break\n",
    "            elif picking_input == 'n':\n",
    "                break\n",
    "    return new_categories_list\n",
    "            \n",
    "\n",
    "\"\"\"\n",
    "Print list of all categories names\n",
    "\"\"\"\n",
    "def print_categories_names(categories_list):\n",
    "    print('[', end='')\n",
    "    for category in categories_list[:-1]:\n",
    "        print(f\"\\'{category['name']}\\', \", end='')\n",
    "    print(f\"\\'{categories_list[-1]['name']}\\']\")  "
   ]
  },
  {
   "cell_type": "code",
   "execution_count": 16,
   "id": "42236a80",
   "metadata": {
    "scrolled": true
   },
   "outputs": [
    {
     "name": "stdout",
     "output_type": "stream",
     "text": [
      "['person', 'bicycle', 'car', 'motorcycle', 'airplane', 'bus', 'train', 'truck', 'boat', 'traffic light', 'fire hydrant', 'stop sign', 'parking meter', 'bench', 'bird', 'cat', 'dog', 'horse', 'sheep', 'cow', 'elephant', 'bear', 'zebra', 'giraffe', 'backpack', 'umbrella', 'handbag', 'tie', 'suitcase', 'frisbee', 'skis', 'snowboard', 'sports ball', 'kite', 'baseball bat', 'baseball glove', 'skateboard', 'surfboard', 'tennis racket', 'bottle', 'wine glass', 'cup', 'fork', 'knife', 'spoon', 'bowl', 'banana', 'apple', 'sandwich', 'orange', 'broccoli', 'carrot', 'hot dog', 'pizza', 'donut', 'cake', 'chair', 'couch', 'potted plant', 'bed', 'dining table', 'toilet', 'tv', 'laptop', 'mouse', 'remote', 'keyboard', 'cell phone', 'microwave', 'oven', 'toaster', 'sink', 'refrigerator', 'book', 'clock', 'vase', 'scissors', 'teddy bear', 'hair drier', 'toothbrush']\n"
     ]
    }
   ],
   "source": [
    "print_categories_names(train_anns['categories'])"
   ]
  },
  {
   "cell_type": "markdown",
   "id": "6476f8d8",
   "metadata": {},
   "source": [
    "# List of Labels"
   ]
  },
  {
   "cell_type": "code",
   "execution_count": 44,
   "id": "5b29e4d1",
   "metadata": {},
   "outputs": [],
   "source": [
    "# get list of all labels\n",
    "all_superlabels = [ item['supercategory'] for item in train_anns['categories'] ]\n",
    "all_labels = [ item['name'] for item in train_anns['categories'] ]\n",
    "all_label_id = [ item['id'] for item in train_anns['categories'] ]\n",
    "\n",
    "labels_to_label_id = dict(zip(all_labels, all_label_id))\n",
    "labels_to_superlabels = dict(zip(all_labels, all_superlabels))"
   ]
  },
  {
   "cell_type": "markdown",
   "id": "8b38f718",
   "metadata": {},
   "source": [
    "# Save COCO Labels to local json file"
   ]
  },
  {
   "cell_type": "code",
   "execution_count": 49,
   "id": "56c0318c",
   "metadata": {},
   "outputs": [],
   "source": [
    "# save label lists to json file\n",
    "import json\n",
    "with open(\"coco_categories.json\", \"w\") as fp:\n",
    "    json.dump(labels_to_label_id, fp)\n",
    "with open(\"coco_super_categories.json\", \"w\") as fp:\n",
    "    json.dump(labels_to_superlabels, fp)"
   ]
  },
  {
   "cell_type": "markdown",
   "id": "823469d1",
   "metadata": {},
   "source": [
    "# List of Image paths mapped to image ids"
   ]
  },
  {
   "cell_type": "code",
   "execution_count": 31,
   "id": "0dc046e5",
   "metadata": {},
   "outputs": [],
   "source": [
    "# list of train / val img paths\n",
    "list_train_img_paths = [os.path.join('data', 'train2017', image['file_name']) for image in train_anns['images']]\n",
    "list_train_img_ids = [image['id'] for image in train_anns['images']]\n",
    "list_val_img_paths = [os.path.join('data', 'val2017', image['file_name']) for image in val_anns['images']]\n",
    "list_val_img_ids = [image['id'] for image in val_anns['images']]\n",
    "\n",
    "# dictionary of { image id : path }\n",
    "dict_train_imgs = dict(zip(list_train_img_ids, list_train_img_paths))\n",
    "dict_val_imgs = dict(zip(list_val_img_ids, list_val_img_paths))"
   ]
  },
  {
   "cell_type": "markdown",
   "id": "bba11e21",
   "metadata": {},
   "source": [
    "# Dict of Image Anns mapped to image ids"
   ]
  },
  {
   "cell_type": "code",
   "execution_count": 41,
   "id": "52bff53c",
   "metadata": {},
   "outputs": [],
   "source": [
    "# list of annotation image ids\n",
    "list_train_anns_img_ids = [ anns['image_id'] for anns in train_anns['annotations'] ]\n",
    "list_val_anns_img_ids = [ anns['image_id'] for anns in val_anns['annotations'] ]\n",
    "\n",
    "# list of annotation bounding boxes\n",
    "list_train_anns_bbox = [ anns['bbox'] for anns in train_anns['annotations'] ]\n",
    "list_val_anns_bbox = [ anns['bbox'] for anns in val_anns['annotations'] ]\n",
    "\n",
    "# lsit of annotation category ids\n",
    "list_train_anns_category_ids = [ anns['category_id'] for anns in train_anns['annotations'] ]\n",
    "list_val_anns_category_ids = [ anns['category_id'] for anns in val_anns['annotations'] ]\n",
    "\n",
    "# dict of category ids mapped to image ids\n",
    "dict_train_category_ids = dict(zip(list_train_anns_img_ids, list_train_anns_category_ids))\n",
    "dict_val_category_ids = dict(zip(list_val_anns_img_ids, list_val_anns_category_ids))\n",
    "\n",
    "# dict of bounding boxes mapped to image ids\n",
    "dict_train_bbox = dict(zip(list_train_anns_img_ids, list_train_anns_bbox))\n",
    "dict_val_bbox = dict(zip(list_val_anns_img_ids, list_val_anns_bbox))\n"
   ]
  },
  {
   "cell_type": "code",
   "execution_count": null,
   "id": "714ddc1c",
   "metadata": {},
   "outputs": [],
   "source": []
  }
 ],
 "metadata": {
  "kernelspec": {
   "display_name": "Python 3.9 (tensorflow)",
   "language": "python",
   "name": "tensorflow"
  },
  "language_info": {
   "codemirror_mode": {
    "name": "ipython",
    "version": 3
   },
   "file_extension": ".py",
   "mimetype": "text/x-python",
   "name": "python",
   "nbconvert_exporter": "python",
   "pygments_lexer": "ipython3",
   "version": "3.9.12"
  }
 },
 "nbformat": 4,
 "nbformat_minor": 5
}
