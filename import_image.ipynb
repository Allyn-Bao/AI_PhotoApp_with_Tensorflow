{
 "cells": [
  {
   "cell_type": "code",
   "execution_count": 73,
   "metadata": {
    "collapsed": true
   },
   "outputs": [],
   "source": [
    "import tensorflow\n",
    "import os\n",
    "import pathlib\n",
    "import json\n",
    "import numpy as np"
   ]
  },
  {
   "cell_type": "code",
   "execution_count": 38,
   "outputs": [],
   "source": [
    "# classes\n",
    "sky_classes = ['sunsets', 'daytime_sky', 'night_sky']"
   ],
   "metadata": {
    "collapsed": false
   }
  },
  {
   "cell_type": "code",
   "execution_count": 43,
   "outputs": [],
   "source": [
    "def get_list_of_img_names_from_dir(dir_path):\n",
    "    file_names = [file for file in os.listdir(dir_path)]\n",
    "    file_names = list(filter(lambda name: pathlib.Path(name).suffix == '.jpg', file_names))\n",
    "    return file_names"
   ],
   "metadata": {
    "collapsed": false
   }
  },
  {
   "cell_type": "code",
   "execution_count": 44,
   "outputs": [],
   "source": [
    "def rename_files_in_list(dir_path, file_names, category_name):\n",
    "    new_file_path_list = []\n",
    "    for i in range(len(file_names)):\n",
    "        path = os.path.join(dir_path, file_names[i])\n",
    "        new_name = category_name + str(i) + '.jpg'\n",
    "        os.rename(path, os.path.join(dir_path, new_name))\n",
    "        new_file_path_list.append(os.path.join(dir_path, new_name))\n",
    "    return new_file_path_list\n"
   ],
   "metadata": {
    "collapsed": false
   }
  },
  {
   "cell_type": "code",
   "execution_count": 81,
   "outputs": [],
   "source": [
    "def import_images_to_list(dir_path: str, class_name: str):\n",
    "    img_names = get_list_of_img_names_from_dir(dir_path)\n",
    "    renamed_img_paths = rename_files_in_list(dir_path, img_names, class_name)\n",
    "    return renamed_img_paths"
   ],
   "metadata": {
    "collapsed": false
   }
  },
  {
   "cell_type": "code",
   "execution_count": 94,
   "outputs": [],
   "source": [
    "def split_to_train_val(l, train_ratio):\n",
    "    return l[:int(len(l) * train_ratio):], l[int(len(l) * train_ratio):]"
   ],
   "metadata": {
    "collapsed": false
   }
  },
  {
   "cell_type": "code",
   "execution_count": 95,
   "outputs": [],
   "source": [
    "def to_dict(l, class_index):\n",
    "    return dict(zip(l, [[class_index] for _ in range(len(l))]))"
   ],
   "metadata": {
    "collapsed": false
   }
  },
  {
   "cell_type": "code",
   "execution_count": 83,
   "outputs": [
    {
     "name": "stdout",
     "output_type": "stream",
     "text": [
      "147\n",
      "146\n",
      "146\n",
      "146\n"
     ]
    }
   ],
   "source": [
    "# sunsets\n",
    "sunset_dir_path = os.path.join('data', 'sunsets')\n",
    "sunset_img_path = import_images_to_list(sunset_dir_path, 'sunset')"
   ],
   "metadata": {
    "collapsed": false
   }
  },
  {
   "cell_type": "code",
   "execution_count": 96,
   "outputs": [],
   "source": [
    "sunset_train, sunset_val = split_to_train_val(sunset_img_path, 0.9)"
   ],
   "metadata": {
    "collapsed": false
   }
  },
  {
   "cell_type": "code",
   "execution_count": 89,
   "outputs": [],
   "source": [
    "sunset_train_dict = to_dict(sunset_train, 0)\n",
    "sunset_val_dict = to_dict(sunset_val, 0)"
   ],
   "metadata": {
    "collapsed": false
   }
  },
  {
   "cell_type": "code",
   "execution_count": 87,
   "outputs": [
    {
     "name": "stdout",
     "output_type": "stream",
     "text": [
      "101\n",
      "100\n",
      "100\n",
      "100\n"
     ]
    }
   ],
   "source": [
    "# daytime sky\n",
    "daytime_sky_dir = os.path.join('data', 'daytime sky')\n",
    "daytime_sky_img_path = import_images_to_list(daytime_sky_dir, 'day_sky')"
   ],
   "metadata": {
    "collapsed": false
   }
  },
  {
   "cell_type": "code",
   "execution_count": 98,
   "outputs": [],
   "source": [
    "day_sky_train, day_sky_val = split_to_train_val(daytime_sky_img_path, 0.9)"
   ],
   "metadata": {
    "collapsed": false
   }
  },
  {
   "cell_type": "code",
   "execution_count": 99,
   "outputs": [],
   "source": [
    "day_sky_train_dict = to_dict(day_sky_train, 1)\n",
    "day_sky_val_dict = to_dict(day_sky_val, 1)"
   ],
   "metadata": {
    "collapsed": false
   }
  },
  {
   "cell_type": "code",
   "execution_count": 93,
   "outputs": [
    {
     "name": "stdout",
     "output_type": "stream",
     "text": [
      "23\n",
      "22\n",
      "22\n",
      "22\n"
     ]
    }
   ],
   "source": [
    "# daytime city_skyline\n",
    "daytime_skyline_dir = os.path.join('data', 'daytime city skyline')\n",
    "daytime_skyline_img_path = import_images_to_list(daytime_skyline_dir, 'dt_skyline')"
   ],
   "metadata": {
    "collapsed": false
   }
  },
  {
   "cell_type": "code",
   "execution_count": 101,
   "outputs": [],
   "source": [
    "day_skyline_train, day_skyline_val = split_to_train_val(daytime_skyline_img_path, 0.9)"
   ],
   "metadata": {
    "collapsed": false
   }
  },
  {
   "cell_type": "code",
   "execution_count": 102,
   "outputs": [],
   "source": [
    "day_skyline_train_dict = to_dict(day_skyline_train, 1)\n",
    "day_skyline_val_dict = to_dict(day_skyline_val, 1)"
   ],
   "metadata": {
    "collapsed": false
   }
  },
  {
   "cell_type": "code",
   "execution_count": 103,
   "outputs": [
    {
     "name": "stdout",
     "output_type": "stream",
     "text": [
      "23\n",
      "23\n",
      "23\n",
      "23\n"
     ]
    }
   ],
   "source": [
    "# daytime city\n",
    "day_city_dir_path = os.path.join('data', 'daytime city')\n",
    "day_city_img_path = import_images_to_list(day_city_dir_path, 'day_city')"
   ],
   "metadata": {
    "collapsed": false
   }
  },
  {
   "cell_type": "code",
   "execution_count": 104,
   "outputs": [],
   "source": [
    "day_city_train, day_city_val = split_to_train_val(day_city_img_path, 0.9)"
   ],
   "metadata": {
    "collapsed": false
   }
  },
  {
   "cell_type": "code",
   "execution_count": 105,
   "outputs": [],
   "source": [
    "day_city_train_dict = to_dict(day_city_train, 1)\n",
    "day_city_val_dict = to_dict(day_city_val, 1)"
   ],
   "metadata": {
    "collapsed": false
   }
  },
  {
   "cell_type": "code",
   "execution_count": 106,
   "outputs": [],
   "source": [
    "# Training\n",
    "sky_training = {}\n",
    "sky_training.update(sunset_train_dict)\n",
    "sky_training.update(day_sky_train_dict)\n",
    "sky_training.update(day_skyline_train_dict)\n",
    "sky_training.update(day_city_train_dict)"
   ],
   "metadata": {
    "collapsed": false
   }
  },
  {
   "cell_type": "code",
   "execution_count": 108,
   "outputs": [],
   "source": [
    "# valuation\n",
    "sky_val = {}\n",
    "sky_val.update(sunset_train_dict)\n",
    "sky_val.update(day_sky_train_dict)\n",
    "sky_val.update(day_skyline_train_dict)\n",
    "sky_val.update(day_city_train_dict)"
   ],
   "metadata": {
    "collapsed": false
   }
  },
  {
   "cell_type": "code",
   "execution_count": 110,
   "outputs": [],
   "source": [
    "sky_dataset = {}\n",
    "sky_dataset['train'] = sky_training\n",
    "sky_dataset['val'] = sky_val"
   ],
   "metadata": {
    "collapsed": false
   }
  },
  {
   "cell_type": "code",
   "execution_count": 112,
   "outputs": [],
   "source": [
    "with open(\"train_data_info.json\", \"w\") as fp:\n",
    "    json.dump(sky_dataset, fp)"
   ],
   "metadata": {
    "collapsed": false
   }
  }
 ],
 "metadata": {
  "kernelspec": {
   "display_name": "Python 3",
   "language": "python",
   "name": "python3"
  },
  "language_info": {
   "codemirror_mode": {
    "name": "ipython",
    "version": 2
   },
   "file_extension": ".py",
   "mimetype": "text/x-python",
   "name": "python",
   "nbconvert_exporter": "python",
   "pygments_lexer": "ipython2",
   "version": "2.7.6"
  }
 },
 "nbformat": 4,
 "nbformat_minor": 0
}
