{
 "cells": [
  {
   "cell_type": "code",
   "execution_count": 66,
   "metadata": {
    "collapsed": true
   },
   "outputs": [],
   "source": [
    "import tensorflow\n",
    "import os\n",
    "import pathlib\n",
    "import json"
   ]
  },
  {
   "cell_type": "code",
   "execution_count": 38,
   "outputs": [],
   "source": [
    "# classes\n",
    "sky_classes = ['sunsets', 'daytime_sky', 'night_sky']"
   ],
   "metadata": {
    "collapsed": false
   }
  },
  {
   "cell_type": "code",
   "execution_count": 43,
   "outputs": [],
   "source": [
    "def get_list_of_img_names_from_dir(dir_path):\n",
    "    file_names = [file for file in os.listdir(dir_path)]\n",
    "    file_names = list(filter(lambda name: pathlib.Path(name).suffix == '.jpg', file_names))\n",
    "    return file_names"
   ],
   "metadata": {
    "collapsed": false
   }
  },
  {
   "cell_type": "code",
   "execution_count": 44,
   "outputs": [],
   "source": [
    "def rename_files_in_list(dir_path, file_names, category_name):\n",
    "    new_file_path_list = []\n",
    "    for i in range(len(file_names)):\n",
    "        path = os.path.join(dir_path, file_names[i])\n",
    "        new_name = category_name + str(i) + '.jpg'\n",
    "        os.rename(path, os.path.join(dir_path, new_name))\n",
    "        new_file_path_list.append(os.path.join(dir_path, new_name))\n",
    "    return new_file_path_list\n"
   ],
   "metadata": {
    "collapsed": false
   }
  },
  {
   "cell_type": "code",
   "execution_count": 45,
   "outputs": [],
   "source": [
    "def import_images_to_dict(dir_path: str, class_name: str, class_index: int):\n",
    "    img_names = get_list_of_img_names_from_dir(dir_path)\n",
    "    renamed_img_paths = rename_files_in_list(dir_path, img_names, class_name)\n",
    "    img_paths_dict = dict(zip(renamed_img_paths, [class_index for _ in range(len(renamed_img_paths))]))\n",
    "    return img_paths_dict"
   ],
   "metadata": {
    "collapsed": false
   }
  },
  {
   "cell_type": "code",
   "execution_count": 63,
   "outputs": [
    {
     "name": "stdout",
     "output_type": "stream",
     "text": [
      "147\n",
      "146\n",
      "146\n",
      "146\n",
      "146\n"
     ]
    }
   ],
   "source": [
    "# sunsets\n",
    "sunset_dir_path = os.path.join('data', 'sunsets')\n",
    "sunset_img_paths_to_class = import_images_to_dict(sunset_dir_path, 'sunsets', 0)"
   ],
   "metadata": {
    "collapsed": false
   }
  },
  {
   "cell_type": "code",
   "execution_count": 67,
   "outputs": [],
   "source": [
    "# save sunset dict to json\n",
    "with open(\"train_data_info.json\", \"w\") as fp:\n",
    "    json.dump(sunset_img_paths_to_class, fp)"
   ],
   "metadata": {
    "collapsed": false
   }
  },
  {
   "cell_type": "code",
   "execution_count": 68,
   "outputs": [
    {
     "name": "stdout",
     "output_type": "stream",
     "text": [
      "101\n",
      "100\n",
      "100\n",
      "100\n",
      "100\n"
     ]
    }
   ],
   "source": [
    "# daytime sky\n",
    "daytime_sky_dir = os.path.join('data', 'daytime sky')\n",
    "daytime_sky_img_paths_to_class = import_images_to_dict(daytime_sky_dir, 'dt_sky', 1)"
   ],
   "metadata": {
    "collapsed": false
   }
  },
  {
   "cell_type": "code",
   "execution_count": 69,
   "outputs": [
    {
     "name": "stdout",
     "output_type": "stream",
     "text": [
      "23\n",
      "22\n",
      "22\n",
      "22\n",
      "22\n"
     ]
    }
   ],
   "source": [
    "# daytime city_skyline\n",
    "daytime_skyline_dir = os.path.join('data', 'daytime city skyline')\n",
    "daytime_skyline_img_paths_to_class = import_images_to_dict(daytime_skyline_dir, 'dt_skyline', 1)"
   ],
   "metadata": {
    "collapsed": false
   }
  },
  {
   "cell_type": "code",
   "execution_count": 70,
   "outputs": [],
   "source": [
    "sky_dataset = {}\n",
    "sky_dataset.update(sunset_img_paths_to_class)\n",
    "sky_dataset.update(daytime_sky_img_paths_to_class)\n",
    "sky_dataset.update(daytime_skyline_img_paths_to_class)"
   ],
   "metadata": {
    "collapsed": false
   }
  },
  {
   "cell_type": "code",
   "execution_count": 71,
   "outputs": [
    {
     "data": {
      "text/plain": "268"
     },
     "execution_count": 71,
     "metadata": {},
     "output_type": "execute_result"
    }
   ],
   "source": [
    "len(sky_dataset)"
   ],
   "metadata": {
    "collapsed": false
   }
  },
  {
   "cell_type": "code",
   "execution_count": 72,
   "outputs": [],
   "source": [
    "with open(\"train_data_info.json\", \"w\") as fp:\n",
    "    json.dump(sky_dataset, fp)"
   ],
   "metadata": {
    "collapsed": false
   }
  }
 ],
 "metadata": {
  "kernelspec": {
   "display_name": "Python 3",
   "language": "python",
   "name": "python3"
  },
  "language_info": {
   "codemirror_mode": {
    "name": "ipython",
    "version": 2
   },
   "file_extension": ".py",
   "mimetype": "text/x-python",
   "name": "python",
   "nbconvert_exporter": "python",
   "pygments_lexer": "ipython2",
   "version": "2.7.6"
  }
 },
 "nbformat": 4,
 "nbformat_minor": 0
}
